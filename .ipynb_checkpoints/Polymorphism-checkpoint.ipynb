{
 "cells": [
  {
   "cell_type": "code",
   "execution_count": 1,
   "metadata": {},
   "outputs": [],
   "source": [
    "## Override a Method Using the Super Function"
   ]
  },
  {
   "cell_type": "code",
   "execution_count": 15,
   "metadata": {},
   "outputs": [
    {
     "name": "stdout",
     "output_type": "stream",
     "text": [
      "Shape, Circle\n"
     ]
    }
   ],
   "source": [
    "# Parent Class\n",
    "class Shape:\n",
    "    sname = \"Shape\"\n",
    "\n",
    "    def getName(self):\n",
    "        return self.sname\n",
    "\n",
    "\n",
    "# child class\n",
    "class XShape(Shape):\n",
    "    # initializer\n",
    "    def __init__(self, name):\n",
    "        self.xsname = name\n",
    "\n",
    "    def getName(self):  # overriden method\n",
    "        return (super().getName() + \", \" + self.xsname)\n",
    "\n",
    "\n",
    "circle = XShape(\"Circle\")\n",
    "print(circle.getName())"
   ]
  },
  {
   "cell_type": "code",
   "execution_count": null,
   "metadata": {},
   "outputs": [],
   "source": []
  },
  {
   "cell_type": "code",
   "execution_count": 16,
   "metadata": {},
   "outputs": [],
   "source": [
    "#"
   ]
  },
  {
   "cell_type": "code",
   "execution_count": 33,
   "metadata": {},
   "outputs": [
    {
     "name": "stdout",
     "output_type": "stream",
     "text": [
      "Write your solution in the classes above.\n",
      "Name : Pongo\n",
      "Sound:  Woof Woof\n",
      "Family:  Husky\n",
      " \n",
      "Name : Billy\n",
      "Sound:  Baaa Baaa\n",
      "Color : White\n"
     ]
    }
   ],
   "source": [
    "#parent class\n",
    "class Animal:\n",
    "    def __init__(self, name, sound):  #parent attribute\n",
    "        self.name = name\n",
    "        self.sound = sound\n",
    "        pass\n",
    "\n",
    "    def Animal_details(self):  #parent function\n",
    "        print('Name :', self.name) \n",
    "        print('Sound: ', self.sound)\n",
    "   \n",
    "#child class\n",
    "class Dog(Animal):\n",
    "    def __init__(self, name, sound, family):#child attribute\n",
    "        super().__init__(name, sound) #init called of parents \n",
    "        self.family = family\n",
    "        pass\n",
    "    \n",
    "    def Animal_details(self):  #parent function with some addition of child's attribute\n",
    "        super().Animal_details()\n",
    "        print('Family: ', self.family)\n",
    "        \n",
    "\n",
    "\n",
    "class Sheep(Animal):\n",
    "     def __init__(self, name, sound, color):\n",
    "        super().__init__(name, sound)\n",
    "        self.color = color\n",
    "        pass\n",
    "\n",
    "     def Animal_details(self):\n",
    "        super().Animal_details()\n",
    "        print('Color :',  self.color)\n",
    "        \n",
    "\n",
    "\n",
    "\n",
    "print(\"Write your solution in the classes above.\")\n",
    "\n",
    "d = Dog(\"Pongo\", \"Woof Woof\", \"Husky\")\n",
    "d.Animal_details()\n",
    "print(\" \")\n",
    "s = Sheep(\"Billy\", \"Baaa Baaa\", \"White\")\n",
    "s.Animal_details()"
   ]
  },
  {
   "cell_type": "code",
   "execution_count": null,
   "metadata": {},
   "outputs": [],
   "source": []
  },
  {
   "cell_type": "code",
   "execution_count": null,
   "metadata": {},
   "outputs": [],
   "source": []
  }
 ],
 "metadata": {
  "kernelspec": {
   "display_name": "Python 3",
   "language": "python",
   "name": "python3"
  },
  "language_info": {
   "codemirror_mode": {
    "name": "ipython",
    "version": 3
   },
   "file_extension": ".py",
   "mimetype": "text/x-python",
   "name": "python",
   "nbconvert_exporter": "python",
   "pygments_lexer": "ipython3",
   "version": "3.7.4"
  }
 },
 "nbformat": 4,
 "nbformat_minor": 2
}
