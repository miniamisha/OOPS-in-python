{
 "cells": [
  {
   "cell_type": "code",
   "execution_count": 1,
   "metadata": {},
   "outputs": [],
   "source": [
    "# Cars and Engines!"
   ]
  },
  {
   "cell_type": "code",
   "execution_count": 14,
   "metadata": {},
   "outputs": [
    {
     "name": "stdout",
     "output_type": "stream",
     "text": [
      "Car has started.\n",
      "Model:  Toyota\n",
      "Color:  Grey\n",
      "Car has stopped.\n",
      "Complete the challenge.\n"
     ]
    }
   ],
   "source": [
    "class Car:\n",
    "    def __init__(self, model, color):\n",
    "        self.model = model\n",
    "        self.color = color\n",
    "    pass\n",
    "    # write your class definition here\n",
    "\n",
    "    def printDetails(self):\n",
    "        print(\"Model: \", self.model)\n",
    "        print(\"Color: \", self.color)\n",
    "\n",
    "class SedanEngine:\n",
    "    def start(self):\n",
    "        print(\"Car has started.\")\n",
    "\n",
    "    def stop(self):\n",
    "        print(\"Car has stopped.\")\n",
    "\n",
    "class Sedan(Car):\n",
    "    def __init__(self, model, color):\n",
    "        super().__init__(model, color)\n",
    "        self.engine = SedanEngine()\n",
    "    pass\n",
    "    # write your class definition\n",
    "    \n",
    "    def setStart(self):\n",
    "        return self.engine.start()\n",
    "    def setStop(self):\n",
    "        return self.engine.stop()\n",
    "        \n",
    "\n",
    "\n",
    "# code to test your implementation\n",
    "# uncomment this code when you want to test your implementation\n",
    "car1 = Sedan(\"Toyota\", \"Grey\")\n",
    "car1.setStart()\n",
    "car1.printDetails()\n",
    "car1.setStop()\n",
    "\n",
    "print(\"Complete the challenge.\")\n"
   ]
  },
  {
   "cell_type": "code",
   "execution_count": 15,
   "metadata": {},
   "outputs": [],
   "source": [
    "\n",
    "# Implementing a Sports Team!"
   ]
  },
  {
   "cell_type": "code",
   "execution_count": 24,
   "metadata": {},
   "outputs": [
    {
     "name": "stdout",
     "output_type": "stream",
     "text": [
      "Total players in my school: 4\n",
      "Complete the challenge.\n"
     ]
    }
   ],
   "source": [
    "# Player class\n",
    "class Player:\n",
    "    def __init__(self, ID, name, teamName):\n",
    "        self.ID=ID\n",
    "        self.name=name\n",
    "        self.teamName=teamName\n",
    "    \n",
    "\n",
    "\n",
    "# Team class contains a list of Player\n",
    "# Objects\n",
    "class Team:\n",
    "    def __init__(self,name):\n",
    "        self.name=name\n",
    "        self.players=[]\n",
    "    \n",
    "    def addPlayer(self):\n",
    "        self.players.append(player)\n",
    "\n",
    "        \n",
    "    def getNumberOfPlayers(self):\n",
    "        return len(self.players)\n",
    "    \n",
    "# School class contains a list of Team\n",
    "# objects.\n",
    "class School:\n",
    "    def __init__(self,name):\n",
    "        self.name=name\n",
    "        self.teams=[]\n",
    "        \n",
    "    def addTeam(self):\n",
    "        self.teams.append(team)\n",
    "        \n",
    "    def getTotalPlayersInSchool(self):\n",
    "        length = 0\n",
    "        for n in self.teams:\n",
    "            length = length + (n.getNumberOfPlayers())\n",
    "        return length\n",
    "\n",
    "\n",
    "\n",
    "# Complete the implementation\n",
    "\n",
    "# code to test the implementation\n",
    "# remove backticks when you want to test the implemenation of your code\n",
    "\n",
    "p1 = Player(\"Harris\", 1, \"Red\");\n",
    "p2 = Player(\"Carol\", 2, \"Red\");\n",
    "\n",
    "p3 = Player(\"Johnny\", 1, \"Blue\");\n",
    "p4 = Player(\"Sarah\", 2, \"Blue\");\n",
    "\n",
    "red_team=Team(\"Red Team\")\n",
    "red_team.players.append(p1)\n",
    "red_team.players.append(p2)\n",
    "\n",
    "blue_team=Team(\"Blue Team\")\n",
    "blue_team.players.append(p2)\n",
    "blue_team.players.append(p3)\n",
    "\n",
    "mySchool=School(\"My School\")\n",
    "mySchool.teams.append(red_team)\n",
    "mySchool.teams.append(blue_team)\n",
    "\n",
    "print(\"Total players in my school:\", mySchool.getTotalPlayersInSchool())\n",
    "\n",
    "print(\"Complete the challenge.\")"
   ]
  },
  {
   "cell_type": "code",
   "execution_count": null,
   "metadata": {},
   "outputs": [],
   "source": []
  }
 ],
 "metadata": {
  "kernelspec": {
   "display_name": "Python 3",
   "language": "python",
   "name": "python3"
  },
  "language_info": {
   "codemirror_mode": {
    "name": "ipython",
    "version": 3
   },
   "file_extension": ".py",
   "mimetype": "text/x-python",
   "name": "python",
   "nbconvert_exporter": "python",
   "pygments_lexer": "ipython3",
   "version": "3.7.4"
  }
 },
 "nbformat": 4,
 "nbformat_minor": 2
}
