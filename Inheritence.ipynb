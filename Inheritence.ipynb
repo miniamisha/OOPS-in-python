{
 "cells": [
  {
   "cell_type": "code",
   "execution_count": 1,
   "metadata": {},
   "outputs": [],
   "source": [
    "##Implement a Banking Account"
   ]
  },
  {
   "cell_type": "code",
   "execution_count": 9,
   "metadata": {},
   "outputs": [
    {
     "name": "stdout",
     "output_type": "stream",
     "text": [
      "amit\n",
      "2300\n",
      "2\n"
     ]
    }
   ],
   "source": [
    "#parent class Account\n",
    "class Account():\n",
    "    #instance variables title & balance\n",
    "    def __init__(self, title=None, balance=None):\n",
    "        # initializer of parent class\n",
    "        self.title = title\n",
    "        self.balance = balance\n",
    "        pass\n",
    "\n",
    "#child class SavingsAccount\n",
    "class SavingsAccount(Account):\n",
    "    #instance variables title, balance, interestRate\n",
    "    def __init__(self,title=None, balance=None, interestRate=None):\n",
    "        #super function helps to access parent class initializer\n",
    "        super().__init__(title, balance)\n",
    "        self.interestRate = interestRate\n",
    "        pass\n",
    "\n",
    "#object for child-class\n",
    "out = SavingsAccount(\"amit\", 2300, 2)\n",
    "print(out.title)\n",
    "print(out.balance)\n",
    "print(out.interestRate)"
   ]
  },
  {
   "cell_type": "code",
   "execution_count": null,
   "metadata": {},
   "outputs": [],
   "source": [
    "\n"
   ]
  },
  {
   "cell_type": "code",
   "execution_count": 10,
   "metadata": {},
   "outputs": [],
   "source": [
    "##'Handling a Bank Account' challenge.\n"
   ]
  },
  {
   "cell_type": "code",
   "execution_count": 26,
   "metadata": {},
   "outputs": [
    {
     "name": "stdout",
     "output_type": "stream",
     "text": [
      "2000\n",
      "deposiit:  2020\n"
     ]
    }
   ],
   "source": [
    "#parent class\n",
    "class Account:\n",
    "    def __init__(self, title=None, balance=0):\n",
    "        self.title = title\n",
    "        self.balance = balance\n",
    "\n",
    "    def withdrawal(self, amount):\n",
    "        self.balance-=amount\n",
    "        pass\n",
    "\n",
    "    def deposit(self, amount):\n",
    "        self.balance+=amount\n",
    "        pass\n",
    "\n",
    "    def getBalance(self):\n",
    "        return self.balance\n",
    "        pass\n",
    "\n",
    "\n",
    "    #child class\n",
    "class SavingsAccount(Account):\n",
    "    def __init__(self, title=None, balance=0, interestRate=0):\n",
    "        super().__init__(title, balance)\n",
    "        self.interestRate = interestRate\n",
    "\n",
    "    def interestAmount(self):\n",
    "        return self.interestRate*self.getBalance()/100\n",
    "        pass\n",
    "\n",
    "\n",
    "\n",
    "demo1 = SavingsAccount(\"Mark\", 2000, 5)  # initializing a SavingsAccount object\n",
    "print(demo1.getBalance())\n",
    "demo1.deposit(20)\n",
    "print('deposiit: ', demo1.getBalance())"
   ]
  },
  {
   "cell_type": "code",
   "execution_count": null,
   "metadata": {},
   "outputs": [],
   "source": []
  },
  {
   "cell_type": "code",
   "execution_count": null,
   "metadata": {},
   "outputs": [],
   "source": []
  }
 ],
 "metadata": {
  "kernelspec": {
   "display_name": "Python 3",
   "language": "python",
   "name": "python3"
  },
  "language_info": {
   "codemirror_mode": {
    "name": "ipython",
    "version": 3
   },
   "file_extension": ".py",
   "mimetype": "text/x-python",
   "name": "python",
   "nbconvert_exporter": "python",
   "pygments_lexer": "ipython3",
   "version": "3.7.4"
  }
 },
 "nbformat": 4,
 "nbformat_minor": 2
}
